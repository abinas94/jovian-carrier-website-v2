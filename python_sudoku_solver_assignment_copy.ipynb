{
  "cells": [
    {
      "cell_type": "markdown",
      "metadata": {
        "id": "view-in-github",
        "colab_type": "text"
      },
      "source": [
        "<a href=\"https://colab.research.google.com/github/abinas94/jovian-carrier-website-v2/blob/main/python_sudoku_solver_assignment_copy.ipynb\" target=\"_parent\"><img src=\"https://colab.research.google.com/assets/colab-badge.svg\" alt=\"Open In Colab\"/></a>"
      ]
    },
    {
      "cell_type": "markdown",
      "id": "4e8ff00e",
      "metadata": {
        "id": "4e8ff00e"
      },
      "source": [
        "# Assignment - Building a Sudoku Solver in Python\n",
        "\n",
        "\n",
        "As you go through this notebook, you will find the symbol **???** in certain places. To complete this assignment, you must replace all the **???** with appropriate values, expressions or statements to ensure that the notebook runs properly end-to-end.\n",
        "\n",
        "**Guidelines**\n",
        "\n",
        "1. Make sure to run all the code cells, otherwise you may get errors like `NameError` for undefined variables.\n",
        "2. Do not change variable names, delete cells or disturb other existing code. It may cause problems during evaluation.\n",
        "3. In some cases, you may need to add some code cells or new statements before or after the line of code containing the **???**.\n",
        "4. Since you'll be using a temporary online service for code execution, save your work by running `jovian.commit` at regular intervals.\n",
        "5. Questions marked **(Optional)** will not be considered for evaluation, and can be skipped. They are for your learning.\n",
        "6. If you are stuck, you can ask for help on the bootcamp Slack group. Post errors, ask for hints and help others, but **please don't share the full solution answer code on Slack** to give others a chance to write the code themselves.\n",
        "7. There are some tests included with this notebook to help you test your implementation. However, after submission your code will be tested with some hidden test cases. Make sure to test your code exhaustively to cover all edge cases."
      ]
    },
    {
      "cell_type": "markdown",
      "id": "62ec03e8",
      "metadata": {
        "id": "62ec03e8"
      },
      "source": [
        "### How to Run the Code and Save Your Work\n",
        "\n",
        "**Option 1: Running using free online resources (1-click, recommended)**: Click the **Run** button at the top of this page and select **Run on Binder**. You can also select \"Run on Colab\" or \"Run on Kaggle\", but you'll need to create an account on [Google Colab](https://colab.research.google.com) or [Kaggle](https://kaggle.com) to use these platforms.\n",
        "\n",
        "\n",
        "**Option 2: Running on your computer locally**: To run the code on your computer locally, you'll need to set up [Python](https://www.python.org) & [Conda](https://docs.conda.io/projects/conda/en/latest/user-guide/install/), download the notebook and install the required libraries. Click the **Run** button at the top of this page, select the **Run Locally** option, and follow the instructions.\n",
        "\n",
        "**Saving your work**: You can save a snapshot of the assignment to your [Jovian](https://jovian.ai) profile, so that you can access it later and continue your work. Keep saving your work by running `jovian.commit` from time to time."
      ]
    },
    {
      "cell_type": "code",
      "execution_count": 1,
      "id": "fb9bb3f5",
      "metadata": {
        "scrolled": true,
        "colab": {
          "base_uri": "https://localhost:8080/"
        },
        "id": "fb9bb3f5",
        "outputId": "941bea30-4e35-4d90-b253-7742e01f1524"
      },
      "outputs": [
        {
          "output_type": "stream",
          "name": "stdout",
          "text": [
            "\u001b[?25l     \u001b[90m━━━━━━━━━━━━━━━━━━━━━━━━━━━━━━━━━━━━━━━━\u001b[0m \u001b[32m0.0/68.6 kB\u001b[0m \u001b[31m?\u001b[0m eta \u001b[36m-:--:--\u001b[0m\r\u001b[2K     \u001b[90m━━━━━━━━━━━━━━━━━━━━━━━━━━━━━━━━━━━━━━━━\u001b[0m \u001b[32m68.6/68.6 kB\u001b[0m \u001b[31m1.9 MB/s\u001b[0m eta \u001b[36m0:00:00\u001b[0m\n",
            "\u001b[?25h  Preparing metadata (setup.py) ... \u001b[?25l\u001b[?25hdone\n",
            "  Building wheel for uuid (setup.py) ... \u001b[?25l\u001b[?25hdone\n"
          ]
        }
      ],
      "source": [
        "!pip install jovian --upgrade --quiet"
      ]
    },
    {
      "cell_type": "code",
      "execution_count": 2,
      "id": "a8b547ce",
      "metadata": {
        "id": "a8b547ce"
      },
      "outputs": [],
      "source": [
        "import jovian"
      ]
    },
    {
      "cell_type": "code",
      "execution_count": 3,
      "id": "96b83802",
      "metadata": {
        "colab": {
          "base_uri": "https://localhost:8080/"
        },
        "id": "96b83802",
        "outputId": "77155362-6854-4261-ea80-422ff1007e01"
      },
      "outputs": [
        {
          "output_type": "stream",
          "name": "stdout",
          "text": [
            "[jovian] Detected Colab notebook...\u001b[0m\n",
            "[jovian] jovian.commit() is no longer required on Google Colab. If you ran this notebook from Jovian, \n",
            "then just save this file in Colab using Ctrl+S/Cmd+S and it will be updated on Jovian. \n",
            "Also, you can also delete this cell, it's no longer necessary.\u001b[0m\n"
          ]
        }
      ],
      "source": [
        "jovian.commit(project='python-sudoku-solver-assignment', privacy='secret')"
      ]
    },
    {
      "cell_type": "markdown",
      "id": "52c37469",
      "metadata": {
        "id": "52c37469"
      },
      "source": [
        "## Introduction\n",
        "\n",
        "In this assignment, we'll write a Python program which can solve a Sudoku, a popular Japanese puzzle you may have seen in newspapers. Here's what a Sudoku looks like:\n",
        "\n",
        "<img src=\"https://i.imgur.com/vfArdnW.jpg\" width=\"360\">\n",
        "\n",
        "It's a 9x9 grid containing several blank spaces and some numbers (between 1 and 9). There are also nine 3x3 subgrids (indicated by the dark lines).\n",
        "\n",
        "\n",
        "> **Solving a Sudoku**: To _solve_ a Sudoku, you must fill all the blank spaces in the above 9x9 grid with digits so that each column, each row and each of the nine 3x3 subgrids (also called \"boxes\") contain all of the digits from 1 to 9, without repetition.\n",
        "\n",
        "Here's the solution to the above puzzle:\n",
        "\n",
        "<img src=\"https://i.imgur.com/0oXXRNk.png\" width=\"360\">\n",
        "\n",
        "Can you verify that this solution matches the criteria mentioned above?\n",
        "\n",
        "> **Sudoku World Record**: In 2018, China's Wang Shiyao set a new world record in Sudoku on Wednesday when she managed to solve a 9x9 sudoku grid in 54.44 seconds at the World Sudoku & Puzzle Championship held in Prague.\n",
        "\n",
        "Let's see if we can beat that record with a Python program, without solving even a single Sudoku by hand.\n",
        "\n",
        "Here are the steps we'll follow to create a Sudoku solver in Python:\n",
        "\n",
        "1. Represent a Sudoku as a list of lists in Python\n",
        "2. Create helper functions to extract rows, columns and boxes from the Sudoku\n",
        "3. Create functions to check if a Sudoku is valid or complete\n",
        "4. Use a recursive strategy to solve a Sudoku by trial & error\n",
        "5. Read 100 Sudokus from a file and solve them all together"
      ]
    },
    {
      "cell_type": "markdown",
      "id": "8a45ac3f",
      "metadata": {
        "id": "8a45ac3f"
      },
      "source": [
        "## 1. Puzzle Representation\n",
        "\n",
        "The first step for solving any real-world problem is to figure out the representation for the inputs and outputs of the problem. In this case, the input is an unsolved Sudoku puzzle and the output is the solved version of the input puzzles\n",
        "\n",
        "We'll use a list of lists of numbers to represent a Sudoku puzzle.\n",
        "\n",
        "<img src=\"https://i.imgur.com/vfArdnW.jpg\" width=\"360\">\n",
        "\n",
        "Here's how we can represent the above puzzle:"
      ]
    },
    {
      "cell_type": "code",
      "execution_count": 4,
      "id": "ec353c45",
      "metadata": {
        "id": "ec353c45"
      },
      "outputs": [],
      "source": [
        "puzzle1 = [[5, 3, 0, 0, 7, 0, 0, 0, 0],\n",
        "           [6, 0, 0, 1, 9, 5, 0, 0, 0],\n",
        "           [0, 9, 8, 0, 0, 0, 0, 6, 0],\n",
        "           [8, 0, 0, 0, 6, 0, 0, 0, 3],\n",
        "           [4, 0, 0, 8, 0, 3, 0, 0, 1],\n",
        "           [7, 0, 0, 0, 2, 0, 0, 0, 6],\n",
        "           [0, 6, 0, 0, 0, 0, 2, 8, 0],\n",
        "           [0, 0, 0, 4, 1, 9, 0, 0, 5],\n",
        "           [0, 0, 0, 0, 8, 0, 0, 7, 9]]"
      ]
    },
    {
      "cell_type": "code",
      "execution_count": 5,
      "id": "3c588e01",
      "metadata": {
        "colab": {
          "base_uri": "https://localhost:8080/"
        },
        "id": "3c588e01",
        "outputId": "abd2a31e-44b0-4f04-dc46-0f7d4ec9e484"
      },
      "outputs": [
        {
          "output_type": "execute_result",
          "data": {
            "text/plain": [
              "[[5, 3, 0, 0, 7, 0, 0, 0, 0],\n",
              " [6, 0, 0, 1, 9, 5, 0, 0, 0],\n",
              " [0, 9, 8, 0, 0, 0, 0, 6, 0],\n",
              " [8, 0, 0, 0, 6, 0, 0, 0, 3],\n",
              " [4, 0, 0, 8, 0, 3, 0, 0, 1],\n",
              " [7, 0, 0, 0, 2, 0, 0, 0, 6],\n",
              " [0, 6, 0, 0, 0, 0, 2, 8, 0],\n",
              " [0, 0, 0, 4, 1, 9, 0, 0, 5],\n",
              " [0, 0, 0, 0, 8, 0, 0, 7, 9]]"
            ]
          },
          "metadata": {},
          "execution_count": 5
        }
      ],
      "source": [
        "puzzle1"
      ]
    },
    {
      "cell_type": "markdown",
      "id": "9eeed189",
      "metadata": {
        "id": "9eeed189"
      },
      "source": [
        "\n",
        "\n",
        "Note the following details about the above representation:\n",
        "\n",
        "- The outer list contains 9 elements, one for each row of the puzzle\n",
        "- Each element in the outer list is itself a list, containing 9 elements, one for each column\n",
        "- Blank spaces in the Sudoku are represented using `0` and filled spaces are represented using digits.\n",
        "\n",
        "We can check the number of rows and columns using the `len` function."
      ]
    },
    {
      "cell_type": "code",
      "execution_count": 6,
      "id": "ed391bb4",
      "metadata": {
        "colab": {
          "base_uri": "https://localhost:8080/"
        },
        "id": "ed391bb4",
        "outputId": "b051fea4-b6ae-4e34-c1df-6cbe39b18906"
      },
      "outputs": [
        {
          "output_type": "execute_result",
          "data": {
            "text/plain": [
              "9"
            ]
          },
          "metadata": {},
          "execution_count": 6
        }
      ],
      "source": [
        "# Number of rows\n",
        "len(puzzle1)"
      ]
    },
    {
      "cell_type": "code",
      "execution_count": 7,
      "id": "30aa75ab",
      "metadata": {
        "colab": {
          "base_uri": "https://localhost:8080/"
        },
        "id": "30aa75ab",
        "outputId": "3672c4cc-8a9b-48ec-9274-2fca765df508"
      },
      "outputs": [
        {
          "output_type": "execute_result",
          "data": {
            "text/plain": [
              "9"
            ]
          },
          "metadata": {},
          "execution_count": 7
        }
      ],
      "source": [
        "len(puzzle1[2])"
      ]
    },
    {
      "cell_type": "code",
      "execution_count": 8,
      "id": "38661907",
      "metadata": {
        "colab": {
          "base_uri": "https://localhost:8080/"
        },
        "id": "38661907",
        "outputId": "abcf5c62-6ed9-4de6-ecf2-5f6fa2d28ffd"
      },
      "outputs": [
        {
          "output_type": "execute_result",
          "data": {
            "text/plain": [
              "9"
            ]
          },
          "metadata": {},
          "execution_count": 8
        }
      ],
      "source": [
        "# Number of elements row no. 0\n",
        "len(puzzle1[0])"
      ]
    },
    {
      "cell_type": "markdown",
      "id": "5491560e",
      "metadata": {
        "id": "5491560e"
      },
      "source": [
        "We can access a row or a single value using the list indexing notation. Recall that list elements have indices from `0` to `n-1`, for a list of length `n`."
      ]
    },
    {
      "cell_type": "code",
      "execution_count": 9,
      "id": "a87649eb",
      "metadata": {
        "colab": {
          "base_uri": "https://localhost:8080/"
        },
        "id": "a87649eb",
        "outputId": "83ebaca5-bfd8-4bf1-a0c5-8fc742d0ba01"
      },
      "outputs": [
        {
          "output_type": "execute_result",
          "data": {
            "text/plain": [
              "[5, 3, 0, 0, 7, 0, 0, 0, 0]"
            ]
          },
          "metadata": {},
          "execution_count": 9
        }
      ],
      "source": [
        "# Row no. 0\n",
        "puzzle1[0]"
      ]
    },
    {
      "cell_type": "code",
      "execution_count": 10,
      "id": "4c951ca9",
      "metadata": {
        "colab": {
          "base_uri": "https://localhost:8080/"
        },
        "id": "4c951ca9",
        "outputId": "7991bd8f-9754-4800-d728-af2c94523d6a"
      },
      "outputs": [
        {
          "output_type": "execute_result",
          "data": {
            "text/plain": [
              "[0, 9, 8, 0, 0, 0, 0, 6, 0]"
            ]
          },
          "metadata": {},
          "execution_count": 10
        }
      ],
      "source": [
        "puzzle1[2]"
      ]
    },
    {
      "cell_type": "code",
      "execution_count": 11,
      "id": "f8cc328d",
      "metadata": {
        "colab": {
          "base_uri": "https://localhost:8080/"
        },
        "id": "f8cc328d",
        "outputId": "7d3752cc-5c8c-4f45-a91b-913de869fcb3"
      },
      "outputs": [
        {
          "output_type": "execute_result",
          "data": {
            "text/plain": [
              "8"
            ]
          },
          "metadata": {},
          "execution_count": 11
        }
      ],
      "source": [
        "# Element at Row no. 2 and col no. 2 (counting from 0)\n",
        "puzzle1[2][2]"
      ]
    },
    {
      "cell_type": "code",
      "execution_count": 12,
      "id": "0521b510",
      "metadata": {
        "colab": {
          "base_uri": "https://localhost:8080/"
        },
        "id": "0521b510",
        "outputId": "1ee749a4-6154-4451-c0c4-b16593fe5759"
      },
      "outputs": [
        {
          "output_type": "execute_result",
          "data": {
            "text/plain": [
              "0"
            ]
          },
          "metadata": {},
          "execution_count": 12
        }
      ],
      "source": [
        "puzzle1[8][2]"
      ]
    },
    {
      "cell_type": "code",
      "execution_count": 13,
      "id": "89e0abc5",
      "metadata": {
        "id": "89e0abc5"
      },
      "outputs": [],
      "source": [
        "#puzzle1[9]"
      ]
    },
    {
      "cell_type": "code",
      "execution_count": 14,
      "id": "b6ea6b41",
      "metadata": {
        "colab": {
          "base_uri": "https://localhost:8080/"
        },
        "id": "b6ea6b41",
        "outputId": "d1f4d72d-b58d-40e8-d28f-9c2a813b95b8"
      },
      "outputs": [
        {
          "output_type": "execute_result",
          "data": {
            "text/plain": [
              "9"
            ]
          },
          "metadata": {},
          "execution_count": 14
        }
      ],
      "source": [
        "puzzle1[8][8]"
      ]
    },
    {
      "cell_type": "markdown",
      "id": "1c8d0170",
      "metadata": {
        "id": "1c8d0170"
      },
      "source": [
        "Let's save our work before continuing."
      ]
    },
    {
      "cell_type": "code",
      "execution_count": 14,
      "id": "676e3f9e",
      "metadata": {
        "id": "676e3f9e"
      },
      "outputs": [],
      "source": []
    },
    {
      "cell_type": "markdown",
      "id": "a8fb91de",
      "metadata": {
        "id": "a8fb91de"
      },
      "source": [
        "Like the unsolved puzzle, the solved Sudoku can also be represented as a list of lists. Here's the solution to the above puzzle:\n",
        "\n",
        "<img src=\"https://i.imgur.com/0oXXRNk.png\" width=\"360\">\n",
        "\n",
        "> **QUESTION 1**: Represent the above solved Sudoku using a list of lists, in a similar fashion as the unsolved Sudoku.\n"
      ]
    },
    {
      "cell_type": "code",
      "execution_count": 15,
      "id": "e31e40de",
      "metadata": {
        "id": "e31e40de"
      },
      "outputs": [],
      "source": [
        "solution1 = [[5, 3, 4, 6, 7, 8, 9, 1, 2],\n",
        "             [6, 7, 2, 1, 9, 5, 3, 4, 8],\n",
        "             [1, 9, 8, 3, 4, 2, 5, 6, 7],\n",
        "             [8, 5, 9, 7, 6, 1, 4, 2, 3],\n",
        "             [4, 2, 6, 8, 5, 3, 7, 9, 1],\n",
        "             [7, 1, 3, 9, 2, 4, 8, 5, 6],\n",
        "             [9, 6, 1, 5, 3, 7, 2, 8, 4],\n",
        "             [2, 8, 7, 4, 1, 9, 6, 3, 5],\n",
        "             [3, 4, 5, 2, 8, 6, 1, 7, 9]]"
      ]
    },
    {
      "cell_type": "code",
      "execution_count": 16,
      "id": "74e32254",
      "metadata": {
        "colab": {
          "base_uri": "https://localhost:8080/"
        },
        "id": "74e32254",
        "outputId": "68f519b2-32eb-440c-c5e2-1703659acf73"
      },
      "outputs": [
        {
          "output_type": "execute_result",
          "data": {
            "text/plain": [
              "[[5, 3, 4, 6, 7, 8, 9, 1, 2],\n",
              " [6, 7, 2, 1, 9, 5, 3, 4, 8],\n",
              " [1, 9, 8, 3, 4, 2, 5, 6, 7],\n",
              " [8, 5, 9, 7, 6, 1, 4, 2, 3],\n",
              " [4, 2, 6, 8, 5, 3, 7, 9, 1],\n",
              " [7, 1, 3, 9, 2, 4, 8, 5, 6],\n",
              " [9, 6, 1, 5, 3, 7, 2, 8, 4],\n",
              " [2, 8, 7, 4, 1, 9, 6, 3, 5],\n",
              " [3, 4, 5, 2, 8, 6, 1, 7, 9]]"
            ]
          },
          "metadata": {},
          "execution_count": 16
        }
      ],
      "source": [
        "solution1"
      ]
    },
    {
      "cell_type": "markdown",
      "id": "64516a53",
      "metadata": {
        "id": "64516a53"
      },
      "source": [
        "The following cell should output `True` if your definition of `solution1` is correct."
      ]
    },
    {
      "cell_type": "code",
      "execution_count": 17,
      "id": "e4f18e7f",
      "metadata": {
        "colab": {
          "base_uri": "https://localhost:8080/"
        },
        "id": "e4f18e7f",
        "outputId": "970fa659-1f7f-4e9e-bffb-7796f3d48b7e"
      },
      "outputs": [
        {
          "output_type": "execute_result",
          "data": {
            "text/plain": [
              "True"
            ]
          },
          "metadata": {},
          "execution_count": 17
        }
      ],
      "source": [
        "len(solution1) == 9 and len(solution1[0]) == 9"
      ]
    },
    {
      "cell_type": "markdown",
      "id": "9ce20ed3",
      "metadata": {
        "id": "9ce20ed3"
      },
      "source": [
        "\n",
        "\n",
        "> **QUESTION 2**: Retrieve row no. 3 of the solution (counting from 0) using the list indexing notation."
      ]
    },
    {
      "cell_type": "code",
      "execution_count": 18,
      "id": "b3336603",
      "metadata": {
        "id": "b3336603"
      },
      "outputs": [],
      "source": [
        "row3 = solution1[3]"
      ]
    },
    {
      "cell_type": "code",
      "execution_count": 19,
      "id": "a0393119",
      "metadata": {
        "colab": {
          "base_uri": "https://localhost:8080/"
        },
        "id": "a0393119",
        "outputId": "251980b6-d337-4557-a3e6-9e2640585015"
      },
      "outputs": [
        {
          "output_type": "execute_result",
          "data": {
            "text/plain": [
              "[8, 5, 9, 7, 6, 1, 4, 2, 3]"
            ]
          },
          "metadata": {},
          "execution_count": 19
        }
      ],
      "source": [
        "row3"
      ]
    },
    {
      "cell_type": "markdown",
      "id": "fccf3e45",
      "metadata": {
        "id": "fccf3e45"
      },
      "source": [
        "The following cell should output `True` if your definition of `solution1` is correct."
      ]
    },
    {
      "cell_type": "code",
      "execution_count": 20,
      "id": "79e6f220",
      "metadata": {
        "colab": {
          "base_uri": "https://localhost:8080/"
        },
        "id": "79e6f220",
        "outputId": "1a308255-3564-4ca6-c048-9c6afb266ac2"
      },
      "outputs": [
        {
          "output_type": "execute_result",
          "data": {
            "text/plain": [
              "True"
            ]
          },
          "metadata": {},
          "execution_count": 20
        }
      ],
      "source": [
        "row3 == [8, 5, 9, 7, 6, 1, 4, 2, 3]"
      ]
    },
    {
      "cell_type": "markdown",
      "id": "234cfb73",
      "metadata": {
        "id": "234cfb73"
      },
      "source": [
        "\n",
        "\n",
        "> **QUESTION 3**: Retrieve the value in row no. 4 and column no. 5 of the solution (both counting from 0)."
      ]
    },
    {
      "cell_type": "code",
      "execution_count": 21,
      "id": "4203fd46",
      "metadata": {
        "id": "4203fd46"
      },
      "outputs": [],
      "source": [
        "val_4_5 = solution1[4][5]"
      ]
    },
    {
      "cell_type": "code",
      "execution_count": 22,
      "id": "dc81aa2b",
      "metadata": {
        "colab": {
          "base_uri": "https://localhost:8080/"
        },
        "id": "dc81aa2b",
        "outputId": "eecd639f-f7e5-41f0-f219-45b10f4449a3"
      },
      "outputs": [
        {
          "output_type": "execute_result",
          "data": {
            "text/plain": [
              "3"
            ]
          },
          "metadata": {},
          "execution_count": 22
        }
      ],
      "source": [
        "val_4_5"
      ]
    },
    {
      "cell_type": "markdown",
      "id": "cc826a99",
      "metadata": {
        "id": "cc826a99"
      },
      "source": [
        "The following cell should output `True` if your definition of `solution1` is correct."
      ]
    },
    {
      "cell_type": "code",
      "execution_count": 23,
      "id": "f4d68aa7",
      "metadata": {
        "colab": {
          "base_uri": "https://localhost:8080/"
        },
        "id": "f4d68aa7",
        "outputId": "d5df6e23-2d7a-440e-aa85-28e6a46e1c87"
      },
      "outputs": [
        {
          "output_type": "execute_result",
          "data": {
            "text/plain": [
              "True"
            ]
          },
          "metadata": {},
          "execution_count": 23
        }
      ],
      "source": [
        "val_4_5 == 3"
      ]
    },
    {
      "cell_type": "markdown",
      "id": "8a64e344",
      "metadata": {
        "id": "8a64e344"
      },
      "source": [
        "> **QUESTION 4**: Retrieve the value in the last row and column no. 0 of the solution (counting from 0)."
      ]
    },
    {
      "cell_type": "code",
      "execution_count": 24,
      "id": "8b84048b",
      "metadata": {
        "id": "8b84048b"
      },
      "outputs": [],
      "source": [
        "val_last_zero = solution1[8][0]"
      ]
    },
    {
      "cell_type": "code",
      "execution_count": 25,
      "id": "53525ae6",
      "metadata": {
        "colab": {
          "base_uri": "https://localhost:8080/"
        },
        "id": "53525ae6",
        "outputId": "e2e09724-a169-48ff-97ef-15c3bffd605b"
      },
      "outputs": [
        {
          "output_type": "execute_result",
          "data": {
            "text/plain": [
              "3"
            ]
          },
          "metadata": {},
          "execution_count": 25
        }
      ],
      "source": [
        "val_last_zero"
      ]
    },
    {
      "cell_type": "markdown",
      "id": "d1dd06dd",
      "metadata": {
        "id": "d1dd06dd"
      },
      "source": [
        "The following cell should output `True` if your definition of `solution1` is correct."
      ]
    },
    {
      "cell_type": "code",
      "execution_count": 26,
      "id": "db79c750",
      "metadata": {
        "colab": {
          "base_uri": "https://localhost:8080/"
        },
        "id": "db79c750",
        "outputId": "b6af450d-e108-40d5-c275-5a87ff160192"
      },
      "outputs": [
        {
          "output_type": "execute_result",
          "data": {
            "text/plain": [
              "True"
            ]
          },
          "metadata": {},
          "execution_count": 26
        }
      ],
      "source": [
        "val_last_zero == 3"
      ]
    },
    {
      "cell_type": "markdown",
      "id": "9a19424a",
      "metadata": {
        "id": "9a19424a"
      },
      "source": [
        "Let's save our work before continuing."
      ]
    },
    {
      "cell_type": "markdown",
      "id": "dc8b1f24",
      "metadata": {
        "id": "dc8b1f24"
      },
      "source": [
        "## 2. Extracting Rows, Columns and Boxes\n",
        "\n",
        "Before we can solve a Sudoku, we'll need a way to extract specific rows, columns and boxes from the Sudoku. We'll create a helper function for each of these.\n",
        "\n",
        "### Rows\n",
        "\n",
        "<img src=\"https://i.imgur.com/FR98oSb.jpg\" width=\"360\">\n",
        "\n",
        "> **QUESTION 5**: Write a function to extract row no. k (counting from 0) of a Sudoku as a list of numbers. Rows are numbered 0 to 8, starting from the top. E.g. row no. 2 above is `[0, 9, 8, 0, 0, 0, 0, 6, 0]`.\n",
        "     \n",
        "     \n"
      ]
    },
    {
      "cell_type": "code",
      "execution_count": 26,
      "id": "3de51a13",
      "metadata": {
        "id": "3de51a13"
      },
      "outputs": [],
      "source": []
    },
    {
      "cell_type": "code",
      "execution_count": 28,
      "id": "67aaaae3",
      "metadata": {
        "id": "67aaaae3"
      },
      "outputs": [],
      "source": [
        "def get_row(sudoku,i):\n",
        "  return sudoku[i]"
      ]
    },
    {
      "cell_type": "code",
      "execution_count": 29,
      "id": "13e5ce76",
      "metadata": {
        "colab": {
          "base_uri": "https://localhost:8080/"
        },
        "id": "13e5ce76",
        "outputId": "f0aadc90-6401-4afa-c5fa-a54715325f23"
      },
      "outputs": [
        {
          "output_type": "execute_result",
          "data": {
            "text/plain": [
              "[0, 9, 8, 0, 0, 0, 0, 6, 0]"
            ]
          },
          "metadata": {},
          "execution_count": 29
        }
      ],
      "source": [
        "get_row(puzzle1, 2)"
      ]
    },
    {
      "cell_type": "code",
      "execution_count": 30,
      "id": "cb5ffaa0",
      "metadata": {
        "colab": {
          "base_uri": "https://localhost:8080/"
        },
        "id": "cb5ffaa0",
        "outputId": "090aaf99-7c2d-4f30-8b9f-a36238cc4dab"
      },
      "outputs": [
        {
          "output_type": "execute_result",
          "data": {
            "text/plain": [
              "[8, 5, 9, 7, 6, 1, 4, 2, 3]"
            ]
          },
          "metadata": {},
          "execution_count": 30
        }
      ],
      "source": [
        "get_row(solution1, 3)"
      ]
    },
    {
      "cell_type": "markdown",
      "id": "dab37efd",
      "metadata": {
        "id": "dab37efd"
      },
      "source": [
        "The following cell should output `True` if your definition is correct."
      ]
    },
    {
      "cell_type": "code",
      "execution_count": 31,
      "id": "2a3b9ed9",
      "metadata": {
        "colab": {
          "base_uri": "https://localhost:8080/"
        },
        "id": "2a3b9ed9",
        "outputId": "f0160ecc-5e8d-447c-d3d6-356d22ca8a2b"
      },
      "outputs": [
        {
          "output_type": "execute_result",
          "data": {
            "text/plain": [
              "True"
            ]
          },
          "metadata": {},
          "execution_count": 31
        }
      ],
      "source": [
        "get_row(solution1, 3) == [8, 5, 9, 7, 6, 1, 4, 2, 3]"
      ]
    },
    {
      "cell_type": "markdown",
      "id": "6354dc8d",
      "metadata": {
        "id": "6354dc8d"
      },
      "source": [
        "You can use the cells below to test your implementation with a few more cases."
      ]
    },
    {
      "cell_type": "code",
      "execution_count": null,
      "id": "4df46f3c",
      "metadata": {
        "id": "4df46f3c"
      },
      "outputs": [],
      "source": []
    },
    {
      "cell_type": "code",
      "execution_count": null,
      "id": "f365c007",
      "metadata": {
        "id": "f365c007"
      },
      "outputs": [],
      "source": []
    },
    {
      "cell_type": "markdown",
      "id": "9ea2029a",
      "metadata": {
        "id": "9ea2029a"
      },
      "source": [
        "\n",
        "### Columns\n",
        "\n",
        "<img src=\"https://i.imgur.com/FezcTVP.png\" width=\"360\">\n",
        "\n",
        "> **QUESTION 6**: Write a function to extract column no. k of a Sudoku as a list of numbers. Columns are numbered 0 to 8 starting from the left. E.g. column no. 4 above is `[7, 9, 0, 6, 0, 2, 0, 1, 8]`.\n",
        ">\n",
        "> *Hint*: Use a `for` loop or list comprehension to get the k-th element of each row.\n",
        "\n"
      ]
    },
    {
      "cell_type": "code",
      "source": [
        "def get_col(sudoku, l):\n",
        "  return[row[l] for row in sudoku]"
      ],
      "metadata": {
        "id": "ayh4iDz2vUsz"
      },
      "id": "ayh4iDz2vUsz",
      "execution_count": 54,
      "outputs": []
    },
    {
      "cell_type": "code",
      "execution_count": 55,
      "id": "7bdf9276",
      "metadata": {
        "colab": {
          "base_uri": "https://localhost:8080/"
        },
        "id": "7bdf9276",
        "outputId": "2f977e9b-2fcb-475e-fe27-6a31054d13d5"
      },
      "outputs": [
        {
          "output_type": "execute_result",
          "data": {
            "text/plain": [
              "[7, 9, 0, 6, 0, 2, 0, 1, 8]"
            ]
          },
          "metadata": {},
          "execution_count": 55
        }
      ],
      "source": [
        "get_col(puzzle1, 4)"
      ]
    },
    {
      "cell_type": "code",
      "execution_count": null,
      "id": "fedca734",
      "metadata": {
        "id": "fedca734",
        "outputId": "f194cb7f-55e1-4afd-c967-1c0c4a8289db"
      },
      "outputs": [
        {
          "data": {
            "text/plain": [
              "[8, 5, 2, 1, 3, 4, 7, 9, 6]"
            ]
          },
          "execution_count": 33,
          "metadata": {},
          "output_type": "execute_result"
        }
      ],
      "source": [
        "get_col(solution1, 5)"
      ]
    },
    {
      "cell_type": "markdown",
      "id": "78d67cf6",
      "metadata": {
        "id": "78d67cf6"
      },
      "source": [
        "The following cell should output `True` if your implementation is correct."
      ]
    },
    {
      "cell_type": "code",
      "execution_count": null,
      "id": "7eae18d2",
      "metadata": {
        "id": "7eae18d2",
        "outputId": "fa8fe500-71b4-40a6-831f-b2b28664ae85"
      },
      "outputs": [
        {
          "data": {
            "text/plain": [
              "True"
            ]
          },
          "execution_count": 34,
          "metadata": {},
          "output_type": "execute_result"
        }
      ],
      "source": [
        "get_col(solution1, 5) == [8, 5, 2, 1, 3, 4, 7, 9, 6]"
      ]
    },
    {
      "cell_type": "markdown",
      "id": "2ab1950e",
      "metadata": {
        "id": "2ab1950e"
      },
      "source": [
        "You can use the cells below to test your implementation with a few more cases."
      ]
    },
    {
      "cell_type": "code",
      "execution_count": null,
      "id": "7247618c",
      "metadata": {
        "id": "7247618c"
      },
      "outputs": [],
      "source": []
    },
    {
      "cell_type": "code",
      "execution_count": null,
      "id": "e4ae2507",
      "metadata": {
        "id": "e4ae2507"
      },
      "outputs": [],
      "source": []
    },
    {
      "cell_type": "markdown",
      "id": "e98c5d36",
      "metadata": {
        "id": "e98c5d36"
      },
      "source": [
        "### Boxes\n",
        "\n",
        "<img src=\"https://i.imgur.com/n8wkXEo.jpg\" width=\"360\">\n",
        "\n",
        "> **QUESTION 7**: Each 3x3 subgrid of the Sudoku is called a box. Write a function to extract the box no. k of a Sudoku as a list of numbers. Boxes are numbered from 0 to 8 as shown above. The numbers in a box are represented as a list, going from left to right and top to bottom. E.g. box no. 0 above is `[5, 3, 0, 6, 0, 0, 0, 9, 8]`.\n",
        ">\n",
        "> *Hint*: Use `if-elif-else` statements to select the starting index of the box and list concatenation to join the 3 rows in a box into a single row."
      ]
    },
    {
      "cell_type": "code",
      "execution_count": null,
      "id": "ee3ef446",
      "metadata": {
        "id": "ee3ef446"
      },
      "outputs": [],
      "source": []
    },
    {
      "cell_type": "code",
      "execution_count": null,
      "id": "60d472f5",
      "metadata": {
        "id": "60d472f5"
      },
      "outputs": [],
      "source": [
        "def get_box(sudoku, k):\n",
        "    i = (k//3)*3\n",
        "    j = (k%3)*3\n",
        "    list = []\n",
        "    for i in range(i,i+3):\n",
        "        list.extend(sudoku[i][j:j+3])\n",
        "        i+= 1\n",
        "    return list"
      ]
    },
    {
      "cell_type": "code",
      "execution_count": null,
      "id": "5563c52e",
      "metadata": {
        "id": "5563c52e",
        "outputId": "31d951bf-d33f-4801-af56-e19599f32c88"
      },
      "outputs": [
        {
          "data": {
            "text/plain": [
              "[5, 3, 0, 6, 0, 0, 0, 9, 8]"
            ]
          },
          "execution_count": 36,
          "metadata": {},
          "output_type": "execute_result"
        }
      ],
      "source": [
        "get_box(puzzle1, 0)"
      ]
    },
    {
      "cell_type": "code",
      "execution_count": null,
      "id": "5834353a",
      "metadata": {
        "id": "5834353a",
        "outputId": "c6ce3b30-ab39-4411-dea5-91f2f5badca1"
      },
      "outputs": [
        {
          "data": {
            "text/plain": [
              "[5, 3, 7, 4, 1, 9, 2, 8, 6]"
            ]
          },
          "execution_count": 37,
          "metadata": {},
          "output_type": "execute_result"
        }
      ],
      "source": [
        "get_box(solution1, 7)"
      ]
    },
    {
      "cell_type": "markdown",
      "id": "0f69c28a",
      "metadata": {
        "id": "0f69c28a"
      },
      "source": [
        "The following cell should output `True` if your implementation is correct."
      ]
    },
    {
      "cell_type": "code",
      "execution_count": null,
      "id": "61a1b82f",
      "metadata": {
        "id": "61a1b82f",
        "outputId": "d649cfef-b834-4a26-aa8c-7eb8759ae4b6"
      },
      "outputs": [
        {
          "data": {
            "text/plain": [
              "True"
            ]
          },
          "execution_count": 38,
          "metadata": {},
          "output_type": "execute_result"
        }
      ],
      "source": [
        "get_box(solution1, 7) == [5, 3, 7, 4, 1, 9, 2, 8, 6]"
      ]
    },
    {
      "cell_type": "markdown",
      "id": "71af089d",
      "metadata": {
        "id": "71af089d"
      },
      "source": [
        "You can use the cells below to test your implementation with a few more cases."
      ]
    },
    {
      "cell_type": "code",
      "execution_count": null,
      "id": "f4222a26",
      "metadata": {
        "id": "f4222a26",
        "outputId": "c091d95c-6da7-40b0-dd39-b0a97ffdf56f"
      },
      "outputs": [
        {
          "data": {
            "text/plain": [
              "[2, 8, 4, 6, 3, 5, 1, 7, 9]"
            ]
          },
          "execution_count": 39,
          "metadata": {},
          "output_type": "execute_result"
        }
      ],
      "source": [
        "get_box(solution1, 8)"
      ]
    },
    {
      "cell_type": "code",
      "execution_count": null,
      "id": "fdad3f5c",
      "metadata": {
        "id": "fdad3f5c",
        "outputId": "2da0b2cd-c1f0-44f0-d3bc-0a67cccca497"
      },
      "outputs": [
        {
          "data": {
            "application/javascript": [
              "window.require && require([\"base/js/namespace\"],function(Jupyter){Jupyter.notebook.save_checkpoint()})"
            ],
            "text/plain": [
              "<IPython.core.display.Javascript object>"
            ]
          },
          "metadata": {},
          "output_type": "display_data"
        },
        {
          "name": "stdout",
          "output_type": "stream",
          "text": [
            "[jovian] Updating notebook \"abinas-94/python-sudoku-solver-assignment\" on https://jovian.ai\u001b[0m\n",
            "[jovian] Committed successfully! https://jovian.ai/abinas-94/python-sudoku-solver-assignment\u001b[0m\n"
          ]
        },
        {
          "data": {
            "text/plain": [
              "'https://jovian.ai/abinas-94/python-sudoku-solver-assignment'"
            ]
          },
          "execution_count": 40,
          "metadata": {},
          "output_type": "execute_result"
        }
      ],
      "source": [
        "jovian.commit()"
      ]
    },
    {
      "cell_type": "markdown",
      "id": "46cd2d55",
      "metadata": {
        "id": "46cd2d55"
      },
      "source": [
        "### First Empty Position\n",
        "\n",
        "To start filling the Sudoku, we need to find an empty position to fill.\n",
        "\n",
        "> **QUESTION 8**: Write a function which finds the row & column index of the first empty position (indicated by 0) within a Sudoku. If the row no. i and column no. j column is the first empty position, the function should return the tuple `i, j`. If there are no empty positions, return `None, None`."
      ]
    },
    {
      "cell_type": "code",
      "execution_count": null,
      "id": "b3db8012",
      "metadata": {
        "id": "b3db8012",
        "outputId": "15fafe7a-18c2-42e7-da76-ffd89488d858"
      },
      "outputs": [
        {
          "name": "stdout",
          "output_type": "stream",
          "text": [
            "(0, 0)\n",
            "(0, 1)\n",
            "(1, 0)\n",
            "(1, 1)\n"
          ]
        }
      ],
      "source": [
        "for i in range(2):\n",
        "    for j in range(2):\n",
        "        print((i, j))"
      ]
    },
    {
      "cell_type": "code",
      "execution_count": null,
      "id": "91167137",
      "metadata": {
        "scrolled": true,
        "id": "91167137"
      },
      "outputs": [],
      "source": [
        "def first_empty_position(sudoku):\n",
        "    for i in range(9):\n",
        "        for j in range(9):\n",
        "            if sudoku[i][j] == 0:\n",
        "                print(i,j)\n",
        "                return (i, j)\n",
        "            break\n",
        "        else:\n",
        "            return (None, None)"
      ]
    },
    {
      "cell_type": "code",
      "execution_count": null,
      "id": "9a74044a",
      "metadata": {
        "id": "9a74044a",
        "outputId": "3290d51d-fea3-4761-ea5f-77da3b34c5f4"
      },
      "outputs": [
        {
          "name": "stdout",
          "output_type": "stream",
          "text": [
            "2 0\n"
          ]
        },
        {
          "data": {
            "text/plain": [
              "(2, 0)"
            ]
          },
          "execution_count": 43,
          "metadata": {},
          "output_type": "execute_result"
        }
      ],
      "source": [
        "first_empty_position(puzzle1)"
      ]
    },
    {
      "cell_type": "code",
      "execution_count": null,
      "id": "efc87c28",
      "metadata": {
        "id": "efc87c28"
      },
      "outputs": [],
      "source": []
    },
    {
      "cell_type": "code",
      "execution_count": null,
      "id": "5888c1c8",
      "metadata": {
        "id": "5888c1c8"
      },
      "outputs": [],
      "source": [
        "def first_empty_position(sudoku):\n",
        "    for i in range(9):\n",
        "        for j in range(9):\n",
        "            if sudoku[i][j] == 0:\n",
        "                return (i,j)\n",
        "                break\n",
        "    else:\n",
        "        return (None, None)"
      ]
    },
    {
      "cell_type": "code",
      "execution_count": null,
      "id": "8aa0ebfa",
      "metadata": {
        "id": "8aa0ebfa",
        "outputId": "6d191385-87fb-4e5b-e5ba-f13f31d4abb4"
      },
      "outputs": [
        {
          "data": {
            "text/plain": [
              "(0, 2)"
            ]
          },
          "execution_count": 45,
          "metadata": {},
          "output_type": "execute_result"
        }
      ],
      "source": [
        "first_empty_position(puzzle1)"
      ]
    },
    {
      "cell_type": "code",
      "execution_count": null,
      "id": "11001b5c",
      "metadata": {
        "id": "11001b5c",
        "outputId": "16a18ecd-e181-4d10-a987-e8c57555a705"
      },
      "outputs": [
        {
          "data": {
            "text/plain": [
              "(None, None)"
            ]
          },
          "execution_count": 46,
          "metadata": {},
          "output_type": "execute_result"
        }
      ],
      "source": [
        "first_empty_position(solution1)"
      ]
    },
    {
      "cell_type": "markdown",
      "id": "720ce0d1",
      "metadata": {
        "id": "720ce0d1"
      },
      "source": [
        "If your implementation is correct, the following cell should return `True`."
      ]
    },
    {
      "cell_type": "code",
      "execution_count": null,
      "id": "0dbd64ff",
      "metadata": {
        "id": "0dbd64ff",
        "outputId": "cf2de4d4-b39d-4416-94e5-5a66da3acd5b"
      },
      "outputs": [
        {
          "data": {
            "text/plain": [
              "True"
            ]
          },
          "execution_count": 47,
          "metadata": {},
          "output_type": "execute_result"
        }
      ],
      "source": [
        "first_empty_position(puzzle1) == (0, 2)"
      ]
    },
    {
      "cell_type": "code",
      "execution_count": null,
      "id": "aab715c0",
      "metadata": {
        "id": "aab715c0",
        "outputId": "8a3ebe60-8b05-438a-96c6-6420f4f53899"
      },
      "outputs": [
        {
          "data": {
            "text/plain": [
              "True"
            ]
          },
          "execution_count": 48,
          "metadata": {},
          "output_type": "execute_result"
        }
      ],
      "source": [
        "first_empty_position(solution1) == (None, None)"
      ]
    },
    {
      "cell_type": "markdown",
      "id": "698c96d5",
      "metadata": {
        "id": "698c96d5"
      },
      "source": [
        "You can use the cells below to test your implementation with a few more cases."
      ]
    },
    {
      "cell_type": "code",
      "execution_count": null,
      "id": "366d5a62",
      "metadata": {
        "id": "366d5a62"
      },
      "outputs": [],
      "source": []
    },
    {
      "cell_type": "code",
      "execution_count": null,
      "id": "b3d68351",
      "metadata": {
        "id": "b3d68351"
      },
      "outputs": [],
      "source": []
    },
    {
      "cell_type": "markdown",
      "id": "baf736bc",
      "metadata": {
        "id": "baf736bc"
      },
      "source": [
        "Let's save our work before continuing."
      ]
    },
    {
      "cell_type": "code",
      "execution_count": null,
      "id": "c474939c",
      "metadata": {
        "id": "c474939c",
        "outputId": "5f21e6de-a2b9-4c23-e510-4a69a773eabe"
      },
      "outputs": [
        {
          "data": {
            "application/javascript": [
              "window.require && require([\"base/js/namespace\"],function(Jupyter){Jupyter.notebook.save_checkpoint()})"
            ],
            "text/plain": [
              "<IPython.core.display.Javascript object>"
            ]
          },
          "metadata": {},
          "output_type": "display_data"
        },
        {
          "name": "stdout",
          "output_type": "stream",
          "text": [
            "[jovian] Updating notebook \"abinas-94/python-sudoku-solver-assignment\" on https://jovian.ai\u001b[0m\n",
            "[jovian] Committed successfully! https://jovian.ai/abinas-94/python-sudoku-solver-assignment\u001b[0m\n"
          ]
        },
        {
          "data": {
            "text/plain": [
              "'https://jovian.ai/abinas-94/python-sudoku-solver-assignment'"
            ]
          },
          "execution_count": 49,
          "metadata": {},
          "output_type": "execute_result"
        }
      ],
      "source": [
        "jovian.commit()"
      ]
    },
    {
      "cell_type": "markdown",
      "id": "467c488f",
      "metadata": {
        "id": "467c488f"
      },
      "source": [
        "## 3. Sudoku Validations\n",
        "\n",
        "\n",
        "### Valid Sudoku\n",
        "\n",
        "A Sudoku puzzle is valid if none of the rows, columns, or boxes contains repeating digits. For example, if a row of a Sudoku contains the number 5 twice, then the Sudoku puzzle is invalid and can't be solved. The same holds true for columns and boxes.\n",
        "\n",
        "\n",
        "![](https://i.imgur.com/QfvkcsM.png)\n",
        "\n",
        "\n",
        "First, we'll create a helper function to check if a row/column/box in a Sudoku is valid.\n",
        "\n",
        "> **QUESTION 9**: Write a function to check if a list of 9 numbers (containing digits from 1 to 9 and 0s to indicate blank spaces) is a valid section (row, column or box) for a Sudoku. Only 0 can occur more than once, the numbers 1 to 9 can occur at most once. Your function should return `True` if the section is valid and `False` otherwise.\n",
        ">\n",
        "> *Hint*: You may find the `count` method of a list useful."
      ]
    },
    {
      "cell_type": "code",
      "execution_count": null,
      "id": "2537fa90",
      "metadata": {
        "id": "2537fa90"
      },
      "outputs": [],
      "source": [
        "def is_section_valid(nums):\n",
        "    for no in nums:\n",
        "        if nums.count(no)>1 and no !=0:\n",
        "            return False\n",
        "    else:\n",
        "        return True\n",
        ""
      ]
    },
    {
      "cell_type": "code",
      "execution_count": null,
      "id": "8a86fe0d",
      "metadata": {
        "id": "8a86fe0d",
        "outputId": "67ba39f0-4b7a-4c3d-e856-a85f4b3d5361"
      },
      "outputs": [
        {
          "data": {
            "text/plain": [
              "False"
            ]
          },
          "execution_count": 51,
          "metadata": {},
          "output_type": "execute_result"
        }
      ],
      "source": [
        "is_section_valid([5, 3, 0, 6, 0, 8, 0, 9, 8])"
      ]
    },
    {
      "cell_type": "code",
      "execution_count": null,
      "id": "cd3bd146",
      "metadata": {
        "id": "cd3bd146"
      },
      "outputs": [],
      "source": []
    },
    {
      "cell_type": "code",
      "execution_count": null,
      "id": "a58dec6a",
      "metadata": {
        "id": "a58dec6a"
      },
      "outputs": [],
      "source": []
    },
    {
      "cell_type": "code",
      "execution_count": null,
      "id": "3f5bf471",
      "metadata": {
        "id": "3f5bf471"
      },
      "outputs": [],
      "source": []
    },
    {
      "cell_type": "code",
      "execution_count": null,
      "id": "05566f08",
      "metadata": {
        "id": "05566f08"
      },
      "outputs": [],
      "source": [
        "def is_section_valid(nums):\n",
        "    for no in nums:\n",
        "        if nums.count(no)>1 and no !=0:\n",
        "            return False\n",
        "    else:\n",
        "        return True\n",
        ""
      ]
    },
    {
      "cell_type": "code",
      "execution_count": null,
      "id": "f1161721",
      "metadata": {
        "id": "f1161721",
        "outputId": "4a819a3b-ceb6-4c68-8798-5100ede9d33d"
      },
      "outputs": [
        {
          "data": {
            "text/plain": [
              "True"
            ]
          },
          "execution_count": 53,
          "metadata": {},
          "output_type": "execute_result"
        }
      ],
      "source": [
        "# should return True\n",
        "is_section_valid([5, 3, 7, 4, 1, 9, 2, 8, 6])"
      ]
    },
    {
      "cell_type": "code",
      "execution_count": null,
      "id": "b2ee579d",
      "metadata": {
        "id": "b2ee579d",
        "outputId": "b20f49f7-37dd-4dd5-c371-5fd9686ff4c2"
      },
      "outputs": [
        {
          "data": {
            "text/plain": [
              "True"
            ]
          },
          "execution_count": 54,
          "metadata": {},
          "output_type": "execute_result"
        }
      ],
      "source": [
        "# should return True\n",
        "is_section_valid([5, 3, 0, 6, 0, 0, 0, 9, 8])"
      ]
    },
    {
      "cell_type": "code",
      "execution_count": null,
      "id": "2b684e57",
      "metadata": {
        "id": "2b684e57",
        "outputId": "c623fad7-1311-4efd-8bdb-7c0af1dce0a7"
      },
      "outputs": [
        {
          "data": {
            "text/plain": [
              "False"
            ]
          },
          "execution_count": 55,
          "metadata": {},
          "output_type": "execute_result"
        }
      ],
      "source": [
        "# should return False\n",
        "is_section_valid([5, 3, 0, 6, 0, 8, 0, 9, 8])"
      ]
    },
    {
      "cell_type": "code",
      "execution_count": null,
      "id": "4e8622bc",
      "metadata": {
        "id": "4e8622bc"
      },
      "outputs": [],
      "source": []
    },
    {
      "cell_type": "markdown",
      "id": "43239060",
      "metadata": {
        "id": "43239060"
      },
      "source": [
        "We can now use the `is_section_valid` function to check if each row, column and box is valid. Rows, columns and boxes are retrieved using the `get_row`, `get_column` and `get_box` functions defined earlier.\n",
        "\n",
        "Let's create a function `is_sudoku_valid` to bring it all together."
      ]
    },
    {
      "cell_type": "code",
      "execution_count": null,
      "id": "64a0c48e",
      "metadata": {
        "id": "64a0c48e"
      },
      "outputs": [],
      "source": [
        "def is_sudoku_valid(sudoku):\n",
        "    rows_valid = all([is_section_valid(get_row(sudoku, i)) for i in range(0, 9)])\n",
        "    cols_valid = all([is_section_valid(get_col(sudoku, i)) for i in range(0, 9)])\n",
        "    boxes_valid = all([is_section_valid(get_box(sudoku, i)) for i in range(0, 9)])\n",
        "    return rows_valid and cols_valid and boxes_valid"
      ]
    },
    {
      "cell_type": "code",
      "execution_count": null,
      "id": "092ddf45",
      "metadata": {
        "id": "092ddf45"
      },
      "outputs": [],
      "source": [
        "# Valid Puzzle\n",
        "puzzle2 = [[5, 3, 0, 0, 7, 0, 0, 0, 0],\n",
        "           [6, 0, 0, 1, 9, 5, 0, 0, 0],\n",
        "           [0, 9, 8, 0, 4, 0, 0, 6, 0],\n",
        "           [8, 0, 0, 0, 6, 0, 0, 0, 3],\n",
        "           [4, 0, 0, 8, 0, 3, 0, 0, 1],\n",
        "           [7, 0, 0, 0, 2, 0, 0, 0, 6],\n",
        "           [0, 6, 0, 0, 0, 0, 2, 8, 0],\n",
        "           [0, 0, 0, 4, 1, 9, 0, 0, 5],\n",
        "           [0, 0, 0, 0, 8, 0, 0, 7, 9]]"
      ]
    },
    {
      "cell_type": "code",
      "execution_count": null,
      "id": "556d0abb",
      "metadata": {
        "id": "556d0abb"
      },
      "outputs": [],
      "source": [
        "# Invalid Puzzle\n",
        "puzzle2 = [[5, 3, 0, 0, 7, 0, 0, 0, 0],\n",
        "           [6, 0, 0, 1, 9, 5, 0, 0, 0],\n",
        "           [0, 9, 8, 0, 8, 0, 0, 6, 0],\n",
        "           [8, 0, 0, 0, 6, 0, 0, 0, 3],\n",
        "           [4, 0, 0, 8, 0, 3, 0, 0, 1],\n",
        "           [7, 0, 0, 0, 2, 0, 0, 0, 6],\n",
        "           [0, 6, 0, 0, 0, 0, 2, 8, 0],\n",
        "           [0, 0, 0, 4, 1, 9, 0, 0, 5],\n",
        "           [0, 0, 0, 0, 8, 0, 0, 7, 9]]"
      ]
    },
    {
      "cell_type": "markdown",
      "id": "fb4241a9",
      "metadata": {
        "id": "fb4241a9"
      },
      "source": [
        "Check your implementation by running the cells below."
      ]
    },
    {
      "cell_type": "code",
      "execution_count": null,
      "id": "7e6c2c23",
      "metadata": {
        "id": "7e6c2c23",
        "outputId": "55c06f54-899d-443c-f21d-1f485cc96dcc"
      },
      "outputs": [
        {
          "data": {
            "text/plain": [
              "True"
            ]
          },
          "execution_count": 59,
          "metadata": {},
          "output_type": "execute_result"
        }
      ],
      "source": [
        "# should return True\n",
        "is_sudoku_valid(puzzle1)"
      ]
    },
    {
      "cell_type": "code",
      "execution_count": null,
      "id": "e3641332",
      "metadata": {
        "id": "e3641332",
        "outputId": "4b462880-0b08-4460-cdf7-2951c41bb2ac"
      },
      "outputs": [
        {
          "data": {
            "text/plain": [
              "False"
            ]
          },
          "execution_count": 60,
          "metadata": {},
          "output_type": "execute_result"
        }
      ],
      "source": [
        "# should return False\n",
        "is_sudoku_valid(puzzle2)"
      ]
    },
    {
      "cell_type": "markdown",
      "id": "c5428448",
      "metadata": {
        "id": "c5428448"
      },
      "source": [
        "You can use the cells below to test `is_sudoku_valid` with a few more cases."
      ]
    },
    {
      "cell_type": "code",
      "execution_count": null,
      "id": "2cab619b",
      "metadata": {
        "id": "2cab619b",
        "outputId": "2d5ca2e3-a8d9-479c-e8ac-90103c0b3b8a"
      },
      "outputs": [
        {
          "data": {
            "application/javascript": [
              "window.require && require([\"base/js/namespace\"],function(Jupyter){Jupyter.notebook.save_checkpoint()})"
            ],
            "text/plain": [
              "<IPython.core.display.Javascript object>"
            ]
          },
          "metadata": {},
          "output_type": "display_data"
        },
        {
          "name": "stdout",
          "output_type": "stream",
          "text": [
            "[jovian] Updating notebook \"abinas-94/python-sudoku-solver-assignment\" on https://jovian.ai\u001b[0m\n",
            "[jovian] Committed successfully! https://jovian.ai/abinas-94/python-sudoku-solver-assignment\u001b[0m\n"
          ]
        },
        {
          "data": {
            "text/plain": [
              "'https://jovian.ai/abinas-94/python-sudoku-solver-assignment'"
            ]
          },
          "execution_count": 61,
          "metadata": {},
          "output_type": "execute_result"
        }
      ],
      "source": [
        "jovian.commit()"
      ]
    },
    {
      "cell_type": "code",
      "execution_count": null,
      "id": "2f52f76d",
      "metadata": {
        "id": "2f52f76d"
      },
      "outputs": [],
      "source": []
    },
    {
      "cell_type": "markdown",
      "id": "ba3c7363",
      "metadata": {
        "id": "ba3c7363"
      },
      "source": [
        "### Complete/Solved Sudoku\n",
        "\n",
        "Next, we need a way to check if a Sudoku is completely solved. This can be done by checking that each row, each column and each box in the Sudoku contains all the numbers from 1 to 9 exactly once.\n",
        "\n",
        "![](https://i.imgur.com/uG2uDk7.png)\n",
        "\n",
        "> **QUESTION 10**: Write a function to check if a list of 9 numbers (containing digits from 1 to 9) represents a complete section (row, column or box) for a Sudoku. The list should contain all the numbers from 1 to 9 exactly once. Your function should return `True` if the section is complete and `False` otherwise.\n",
        ">\n",
        "> *Hint*: You may find the `count` method of a list useful.\n"
      ]
    },
    {
      "cell_type": "code",
      "execution_count": null,
      "id": "2ae5dbea",
      "metadata": {
        "id": "2ae5dbea"
      },
      "outputs": [],
      "source": [
        "def is_section_complete(nums):\n",
        "    for i in range(len(nums)):\n",
        "        if nums.count(i+1) < 1:\n",
        "            return False\n",
        "    return True"
      ]
    },
    {
      "cell_type": "code",
      "execution_count": null,
      "id": "de13147e",
      "metadata": {
        "id": "de13147e",
        "outputId": "1cafe99d-5ab0-40e8-e52a-7a36d64bcfcb"
      },
      "outputs": [
        {
          "data": {
            "text/plain": [
              "False"
            ]
          },
          "execution_count": 130,
          "metadata": {},
          "output_type": "execute_result"
        }
      ],
      "source": [
        "# should return False\n",
        "is_section_complete([0, 9, 8, 0, 0, 0, 0, 6, 0])"
      ]
    },
    {
      "cell_type": "code",
      "execution_count": null,
      "id": "7b95ddd2",
      "metadata": {
        "id": "7b95ddd2",
        "outputId": "8b1f65d8-76ac-4c54-8ca4-ceb2a962dbab"
      },
      "outputs": [
        {
          "data": {
            "text/plain": [
              "True"
            ]
          },
          "execution_count": 131,
          "metadata": {},
          "output_type": "execute_result"
        }
      ],
      "source": [
        "# should return True\n",
        "is_section_complete([1, 9, 8, 3, 4, 2, 5, 6, 7])"
      ]
    },
    {
      "cell_type": "markdown",
      "id": "b4bd09fb",
      "metadata": {
        "id": "b4bd09fb"
      },
      "source": [
        "You can use the cells below to test your implementation with a few more cases."
      ]
    },
    {
      "cell_type": "code",
      "execution_count": null,
      "id": "8e33c6cc",
      "metadata": {
        "id": "8e33c6cc",
        "outputId": "a9817993-0c8a-42f6-e07f-d9d532d6829e"
      },
      "outputs": [
        {
          "data": {
            "text/plain": [
              "False"
            ]
          },
          "execution_count": 132,
          "metadata": {},
          "output_type": "execute_result"
        }
      ],
      "source": [
        "# should return false\n",
        "is_section_complete([1, 9, 8, 3, 3, 2, 5, 6, 7])"
      ]
    },
    {
      "cell_type": "code",
      "execution_count": null,
      "id": "db79fce2",
      "metadata": {
        "id": "db79fce2"
      },
      "outputs": [],
      "source": []
    },
    {
      "cell_type": "markdown",
      "id": "4f49e605",
      "metadata": {
        "id": "4f49e605"
      },
      "source": [
        "We can now use the `is_section_complete` function to check if each row, column and box is complete. Rows, columns and boxes are retrieved using the `get_row`, `get_column` and `get_box` functions defined earlier.\n",
        "\n",
        "Let's create a function `is_sudoku_complete` to bring it all together and check if an entire Sudoku is complete/solved."
      ]
    },
    {
      "cell_type": "code",
      "execution_count": null,
      "id": "064f527d",
      "metadata": {
        "id": "064f527d"
      },
      "outputs": [],
      "source": [
        "def is_sudoku_complete(sudoku):\n",
        "    rows_complete = all([is_section_complete(get_row(sudoku, i)) for i in range(0, 9)])\n",
        "    cols_complete = all([is_section_complete(get_col(sudoku, i)) for i in range(0, 9)])\n",
        "    boxes_complete = all([is_section_complete(get_box(sudoku, i)) for i in range(0, 9)])\n",
        "    return rows_complete and cols_complete and boxes_complete"
      ]
    },
    {
      "cell_type": "markdown",
      "id": "6f6278f7",
      "metadata": {
        "id": "6f6278f7"
      },
      "source": [
        "Check your implementation of `is_section_complete` using the cells below."
      ]
    },
    {
      "cell_type": "code",
      "execution_count": null,
      "id": "e60e089d",
      "metadata": {
        "id": "e60e089d",
        "outputId": "de0d5a0b-07a3-467b-b0c3-7e581e49f523"
      },
      "outputs": [
        {
          "data": {
            "text/plain": [
              "False"
            ]
          },
          "execution_count": 134,
          "metadata": {},
          "output_type": "execute_result"
        }
      ],
      "source": [
        "# should return False\n",
        "is_sudoku_complete(puzzle1)"
      ]
    },
    {
      "cell_type": "code",
      "execution_count": null,
      "id": "31c35e7e",
      "metadata": {
        "id": "31c35e7e",
        "outputId": "91609c24-be50-4554-a2e3-8dace2d60805"
      },
      "outputs": [
        {
          "data": {
            "text/plain": [
              "True"
            ]
          },
          "execution_count": 135,
          "metadata": {},
          "output_type": "execute_result"
        }
      ],
      "source": [
        "# should return True\n",
        "is_sudoku_complete(solution1)"
      ]
    },
    {
      "cell_type": "markdown",
      "id": "d6cf48f4",
      "metadata": {
        "id": "d6cf48f4"
      },
      "source": [
        "You can use the cells below to test the `is_sudoku_complete` function with a few more cases."
      ]
    },
    {
      "cell_type": "code",
      "execution_count": null,
      "id": "69897ab2",
      "metadata": {
        "id": "69897ab2"
      },
      "outputs": [],
      "source": []
    },
    {
      "cell_type": "code",
      "execution_count": null,
      "id": "f48a29af",
      "metadata": {
        "id": "f48a29af"
      },
      "outputs": [],
      "source": []
    },
    {
      "cell_type": "code",
      "execution_count": null,
      "id": "0097a459",
      "metadata": {
        "id": "0097a459",
        "outputId": "d46cd2a3-c1e8-40c8-e0e8-60d0e1276788"
      },
      "outputs": [
        {
          "data": {
            "application/javascript": [
              "window.require && require([\"base/js/namespace\"],function(Jupyter){Jupyter.notebook.save_checkpoint()})"
            ],
            "text/plain": [
              "<IPython.core.display.Javascript object>"
            ]
          },
          "metadata": {},
          "output_type": "display_data"
        },
        {
          "name": "stdout",
          "output_type": "stream",
          "text": [
            "[jovian] Updating notebook \"abinas-94/python-sudoku-solver-assignment\" on https://jovian.ai\u001b[0m\n",
            "[jovian] Committed successfully! https://jovian.ai/abinas-94/python-sudoku-solver-assignment\u001b[0m\n"
          ]
        },
        {
          "data": {
            "text/plain": [
              "'https://jovian.ai/abinas-94/python-sudoku-solver-assignment'"
            ]
          },
          "execution_count": 136,
          "metadata": {},
          "output_type": "execute_result"
        }
      ],
      "source": [
        "jovian.commit()"
      ]
    },
    {
      "cell_type": "markdown",
      "id": "6a114cc7",
      "metadata": {
        "id": "6a114cc7"
      },
      "source": [
        "## Make a Submission\n",
        "\n",
        "Run the following code cell to make a submission. You can also submit your Jovian notebook link on the assignment page.\n"
      ]
    },
    {
      "cell_type": "code",
      "execution_count": null,
      "id": "31e360ce",
      "metadata": {
        "id": "31e360ce",
        "outputId": "64f6ab3a-1e5c-4e82-f736-f0b370f8b171"
      },
      "outputs": [
        {
          "data": {
            "application/javascript": [
              "window.require && require([\"base/js/namespace\"],function(Jupyter){Jupyter.notebook.save_checkpoint()})"
            ],
            "text/plain": [
              "<IPython.core.display.Javascript object>"
            ]
          },
          "metadata": {},
          "output_type": "display_data"
        },
        {
          "name": "stdout",
          "output_type": "stream",
          "text": [
            "[jovian] Updating notebook \"abinas-94/python-sudoku-solver-assignment\" on https://jovian.ai\u001b[0m\n",
            "[jovian] Committed successfully! https://jovian.ai/abinas-94/python-sudoku-solver-assignment\u001b[0m\n",
            "[jovian] Submitting assignment..\u001b[0m\n",
            "[jovian] Verify your submission at https://jovian.ai/learn/zero-to-data-analyst-bootcamp/assignment/sudoku-solver-in-python\u001b[0m\n"
          ]
        }
      ],
      "source": [
        "jovian.submit('dsmlbootcamp-sudoku-solver')"
      ]
    },
    {
      "cell_type": "markdown",
      "id": "4e8da389",
      "metadata": {
        "id": "4e8da389"
      },
      "source": [
        "Your submission will be evaluated using several hidden test cases, and the **PASS/FAIL** result (along with comments) will be available on the [assignment page](https://jovian.ai/learn/zero-to-data-analyst-bootcamp/assignment/assignment-1-sudoku-solver-in-python). You can submit any number of times. Only your last submission will be evaluated."
      ]
    },
    {
      "cell_type": "markdown",
      "id": "c34a996c",
      "metadata": {
        "id": "c34a996c"
      },
      "source": [
        "The rest of this assignment is optional."
      ]
    },
    {
      "cell_type": "markdown",
      "id": "18764eb2",
      "metadata": {
        "id": "18764eb2"
      },
      "source": [
        "## 4. Recursive Solution\n",
        "\n",
        "Now we have all the components to start building our Sudoku solver. Our solver will follow the simple approach of trying all possible solutions for filling the blank spaces one by one, while making sure that the Sudoku remains valid.\n",
        "\n",
        "We'll use a technique called recursion, which is best understood by working backwards. Consider the following scenarios:\n",
        "\n",
        "* **No empty spaces**: If a Sudoku has no empty spaces, then we can simply check if the Sudoku is already complete/solved using `is_sudoku_complete`. The Suduko is either already solved or invalid.\n",
        "\n",
        "* **1 empty space**: If a Sudoku has just one empty space, we can try to insert each digit from 1 to 9 into the empty space, and verify which digit, if any, leads to a completed solved Sudoku.\n",
        "\n",
        "* **2 empty spaces**: If a Sudoku has two empty spaces, we can try to insert each digit from 1 to 9 one-by-one into the first empty space, while making sure the Sudoku remains valid. For each valid attempt at inserting a number, the puzzle reduces to the previous problem of solving a Sudoku with just two empty spaces.\n",
        "\n",
        "* **3 empty spaces**: If a Sudoku has three empty spaces, we can try to insert each digit from 1 to 9 one-by-one into the first empty space, while making sure the Sudoku remains valid. For each valid attempt at inserting a number, the puzzle reduces to the previous problem of solving a Sudoku with two empty spaces.\n",
        "\n",
        "* and so on....\n",
        "\n",
        "* **n empty spaces**: If a Sudokuk has `n` empty spaces, we can try to insert each digit from 1 to 9 one-by-one into the first empty space, while making sure the Sudoku remains valid. For each valid attempt at inserting a number, the puzzle reduces to the previous problem of solving a Sudoku with `n-1` empty spaces.\n",
        "\n",
        "Here's a quick tutorial on recursion: https://youtu.be/wMNrSM5RFMc\n",
        "\n",
        "Let's define a helper function `repeat` to implement the above strategy for any number of empty spaces. The function repeat will attempt to fill the first empty space within a Sudoku and invoke itself to fill the remaining spaces *recursively* i.e. by invoking itself with a different input. The function will return `True` if it was able to fill all the spaces successfully, otherwise it will return `False`.\n"
      ]
    },
    {
      "cell_type": "code",
      "execution_count": null,
      "id": "d8af3d93",
      "metadata": {
        "id": "d8af3d93"
      },
      "outputs": [],
      "source": [
        "def repeat(sudoku):\n",
        "    # Check if Sudoku is already complete\n",
        "    if is_sudoku_complete(sudoku):\n",
        "        return True\n",
        "\n",
        "    # Find the first empty position\n",
        "    i, j = first_empty_position(sudoku)\n",
        "\n",
        "    # Try to fill it with numbers 1 to 9\n",
        "    for digit in range(1, 10):\n",
        "\n",
        "        # Insert the digit into the right place\n",
        "        sudoku[i][j] = digit\n",
        "\n",
        "        # Check if the new puzzle is valid\n",
        "        if is_sudoku_valid(sudoku):\n",
        "\n",
        "            # Try to fill the remaining spaces recursively using `repeat`\n",
        "            # Node that this will directly fill values into the sudoku\n",
        "            result = repeat(sudoku)\n",
        "\n",
        "            # If the recursive result is true, we have found the answer and filled the sudoku\n",
        "            if result is True:\n",
        "                return True\n",
        "\n",
        "\n",
        "        # Remove the digit, it doesn't lead to a solution\n",
        "        sudoku[i][j] = 0\n",
        "\n",
        "\n",
        "    # There are no valid numbers to fill the empty slot(s)\n",
        "    return False"
      ]
    },
    {
      "cell_type": "markdown",
      "id": "d80e84f9",
      "metadata": {
        "id": "d80e84f9"
      },
      "source": [
        "Note that `repeat` directly makes changes inside the puzzle passed to it, so it does not need to return the puzzle itself. Do you see how repeat works? Here's a visualization of the process for a 4x4 sudoku (4 rows, columns & boxes instead of 9):\n",
        "\n",
        "![](https://i.imgur.com/Njy5BtB.jpg)\n"
      ]
    },
    {
      "cell_type": "markdown",
      "id": "cd0632bd",
      "metadata": {
        "id": "cd0632bd"
      },
      "source": [
        "Finally, we can create a `solve_sudoku` function which uses `repeat` to solve a Sudoku and returns the solved version (or `None` if the Sudoku is unsolvable)."
      ]
    },
    {
      "cell_type": "code",
      "execution_count": null,
      "id": "b07be5a1",
      "metadata": {
        "id": "b07be5a1"
      },
      "outputs": [],
      "source": [
        "import copy\n",
        "\n",
        "def solve_sudoku(sudoku):\n",
        "    # Create a deep copy of the puzzle (list of lists),\n",
        "    # to avoid modifying the original\n",
        "    copied_sudoku = copy.deepcopy(sudoku)\n",
        "\n",
        "    # Try to complete the Sudoku using repeat\n",
        "    result = repeat(copied_sudoku)\n",
        "\n",
        "    # Return the solved version if successful\n",
        "    if result is True:\n",
        "        return copied_sudoku\n",
        "\n",
        "    # Return None if unsuccessful\n",
        "    return None"
      ]
    },
    {
      "cell_type": "markdown",
      "id": "5c19c38b",
      "metadata": {
        "id": "5c19c38b"
      },
      "source": [
        "Let's test it out!"
      ]
    },
    {
      "cell_type": "code",
      "execution_count": null,
      "id": "70576c93",
      "metadata": {
        "id": "70576c93",
        "outputId": "167b18f5-df8d-4c7f-d8a8-a3d0639c20ce"
      },
      "outputs": [
        {
          "data": {
            "text/plain": [
              "[[5, 3, 0, 0, 7, 0, 0, 0, 0],\n",
              " [6, 0, 0, 1, 9, 5, 0, 0, 0],\n",
              " [0, 9, 8, 0, 0, 0, 0, 6, 0],\n",
              " [8, 0, 0, 0, 6, 0, 0, 0, 3],\n",
              " [4, 0, 0, 8, 0, 3, 0, 0, 1],\n",
              " [7, 0, 0, 0, 2, 0, 0, 0, 6],\n",
              " [0, 6, 0, 0, 0, 0, 2, 8, 0],\n",
              " [0, 0, 0, 4, 1, 9, 0, 0, 5],\n",
              " [0, 0, 0, 0, 8, 0, 0, 7, 9]]"
            ]
          },
          "execution_count": 141,
          "metadata": {},
          "output_type": "execute_result"
        }
      ],
      "source": [
        "puzzle1"
      ]
    },
    {
      "cell_type": "code",
      "execution_count": null,
      "id": "84e6cb21",
      "metadata": {
        "id": "84e6cb21",
        "outputId": "3a907214-6281-429c-f449-1523765252f1"
      },
      "outputs": [
        {
          "name": "stdout",
          "output_type": "stream",
          "text": [
            "CPU times: user 2.1 s, sys: 0 ns, total: 2.1 s\n",
            "Wall time: 2.1 s\n"
          ]
        },
        {
          "data": {
            "text/plain": [
              "[[5, 3, 4, 6, 7, 8, 9, 1, 2],\n",
              " [6, 7, 2, 1, 9, 5, 3, 4, 8],\n",
              " [1, 9, 8, 3, 4, 2, 5, 6, 7],\n",
              " [8, 5, 9, 7, 6, 1, 4, 2, 3],\n",
              " [4, 2, 6, 8, 5, 3, 7, 9, 1],\n",
              " [7, 1, 3, 9, 2, 4, 8, 5, 6],\n",
              " [9, 6, 1, 5, 3, 7, 2, 8, 4],\n",
              " [2, 8, 7, 4, 1, 9, 6, 3, 5],\n",
              " [3, 4, 5, 2, 8, 6, 1, 7, 9]]"
            ]
          },
          "execution_count": 142,
          "metadata": {},
          "output_type": "execute_result"
        }
      ],
      "source": [
        "%%time\n",
        "puzzle1_solved = solve_sudoku(puzzle1)\n",
        "puzzle1_solved"
      ]
    },
    {
      "cell_type": "code",
      "execution_count": null,
      "id": "1615f9ec",
      "metadata": {
        "id": "1615f9ec",
        "outputId": "6e968e66-17c5-4c16-8dbe-8597068a6cf5"
      },
      "outputs": [
        {
          "data": {
            "text/plain": [
              "[[5, 3, 4, 6, 7, 8, 9, 1, 2],\n",
              " [6, 7, 2, 1, 9, 5, 3, 4, 8],\n",
              " [1, 9, 8, 3, 4, 2, 5, 6, 7],\n",
              " [8, 5, 9, 7, 6, 1, 4, 2, 3],\n",
              " [4, 2, 6, 8, 5, 3, 7, 9, 1],\n",
              " [7, 1, 3, 9, 2, 4, 8, 5, 6],\n",
              " [9, 6, 1, 5, 3, 7, 2, 8, 4],\n",
              " [2, 8, 7, 4, 1, 9, 6, 3, 5],\n",
              " [3, 4, 5, 2, 8, 6, 1, 7, 9]]"
            ]
          },
          "execution_count": 143,
          "metadata": {},
          "output_type": "execute_result"
        }
      ],
      "source": [
        "solution1"
      ]
    },
    {
      "cell_type": "code",
      "execution_count": null,
      "id": "eeb542da",
      "metadata": {
        "id": "eeb542da",
        "outputId": "39556811-f62c-4c5d-f47c-003b5ca5402c"
      },
      "outputs": [
        {
          "data": {
            "text/plain": [
              "True"
            ]
          },
          "execution_count": 144,
          "metadata": {},
          "output_type": "execute_result"
        }
      ],
      "source": [
        "puzzle1_solved == solution1"
      ]
    },
    {
      "cell_type": "markdown",
      "id": "2f3967d5",
      "metadata": {
        "id": "2f3967d5"
      },
      "source": [
        "Do you see how the `repeat` function works, by repeatedly invoking itself with progressively easier problems? Recursion can be tricky to wrap your head around at first, but it's a very powerful concept once you understand it.\n"
      ]
    },
    {
      "cell_type": "markdown",
      "id": "1c320a2e",
      "metadata": {
        "id": "1c320a2e"
      },
      "source": [
        "Test the `solve_sudoku` function with a few more examples below."
      ]
    },
    {
      "cell_type": "code",
      "execution_count": null,
      "id": "b2ea9efd",
      "metadata": {
        "id": "b2ea9efd"
      },
      "outputs": [],
      "source": []
    },
    {
      "cell_type": "code",
      "execution_count": null,
      "id": "44f35d61",
      "metadata": {
        "id": "44f35d61"
      },
      "outputs": [],
      "source": []
    },
    {
      "cell_type": "markdown",
      "id": "f07f931c",
      "metadata": {
        "id": "f07f931c"
      },
      "source": [
        "Let's save our work before continuing"
      ]
    },
    {
      "cell_type": "code",
      "execution_count": null,
      "id": "7262750a",
      "metadata": {
        "id": "7262750a",
        "outputId": "6a7dabe8-877e-4eec-f09e-1e885cf13cf4"
      },
      "outputs": [
        {
          "data": {
            "application/javascript": [
              "window.require && require([\"base/js/namespace\"],function(Jupyter){Jupyter.notebook.save_checkpoint()})"
            ],
            "text/plain": [
              "<IPython.core.display.Javascript object>"
            ]
          },
          "metadata": {},
          "output_type": "display_data"
        }
      ],
      "source": [
        "jovian.commit()"
      ]
    },
    {
      "cell_type": "markdown",
      "id": "2f6b02da",
      "metadata": {
        "id": "2f6b02da"
      },
      "source": [
        "## (Optional) Factorial of Numbers using Recursion\n",
        "\n",
        "\n",
        "Here's a simpler example of recursion: finding the factorial of a number. Factorial of a number `n` is defined as the product of all numbers from `1` to `n`.\n",
        "\n",
        "> **(Optional) QUESTION 11:** Write a recursive function to compute the factorial of a number `n`. The factorial of 0 is 1 and the factorial of any number `n` greater than zero is the product of `n * factorial(n-1)`."
      ]
    },
    {
      "cell_type": "code",
      "execution_count": null,
      "id": "4b0f8066",
      "metadata": {
        "id": "4b0f8066"
      },
      "outputs": [],
      "source": [
        "def factorial(n):\n",
        "    # write code here\n",
        "    pass"
      ]
    },
    {
      "cell_type": "code",
      "execution_count": null,
      "id": "79bbbd45",
      "metadata": {
        "id": "79bbbd45"
      },
      "outputs": [],
      "source": [
        "factorial(10)"
      ]
    },
    {
      "cell_type": "markdown",
      "id": "d1a149b6",
      "metadata": {
        "id": "d1a149b6"
      },
      "source": [
        "The factorial of 10 is computed using the factorial of 9, which itself is computed using the factorial of 8 and so on."
      ]
    },
    {
      "cell_type": "markdown",
      "id": "802de8eb",
      "metadata": {
        "id": "802de8eb"
      },
      "source": [
        "Let's save our work before continuing."
      ]
    },
    {
      "cell_type": "code",
      "execution_count": null,
      "id": "afb3a64f",
      "metadata": {
        "id": "afb3a64f"
      },
      "outputs": [],
      "source": [
        "jovian.commit()"
      ]
    },
    {
      "cell_type": "markdown",
      "id": "70f8b47b",
      "metadata": {
        "id": "70f8b47b"
      },
      "source": [
        "## (Optional) Solving hundreds of Sudokus\n",
        "\n",
        "Our `solve_sudoku` function is generic enough that it can solve any Sudoku. In this optional extension to the assignment, we'll download a file containing 100 Sudoku puzzles, process the file to create Sudokus is our list-of-lists representation, solve all the puzzles and finally write the results back to a file.\n",
        "\n",
        "First, let's download the file:"
      ]
    },
    {
      "cell_type": "code",
      "execution_count": null,
      "id": "cd0fb97a",
      "metadata": {
        "id": "cd0fb97a"
      },
      "outputs": [],
      "source": [
        "sudokus_url = 'https://gist.githubusercontent.com/aakashns/033af5f9f6f2ec3a2f322105dad38c01/raw/7af74a86ee7fd9ec9bbb9d3b5a2bf08e9e080532/hundred_sudokus.csv'"
      ]
    },
    {
      "cell_type": "code",
      "execution_count": null,
      "id": "c5ec0f98",
      "metadata": {
        "id": "c5ec0f98"
      },
      "outputs": [],
      "source": [
        "from urllib.request import urlretrieve"
      ]
    },
    {
      "cell_type": "code",
      "execution_count": null,
      "id": "520f7a02",
      "metadata": {
        "id": "520f7a02"
      },
      "outputs": [],
      "source": [
        "urlretrieve(sudokus_url, 'sudokus.csv')"
      ]
    },
    {
      "cell_type": "markdown",
      "id": "4771d5de",
      "metadata": {
        "id": "4771d5de"
      },
      "source": [
        "Next, let's read the contents of the file into a list of lines."
      ]
    },
    {
      "cell_type": "code",
      "execution_count": null,
      "id": "44c73e37",
      "metadata": {
        "id": "44c73e37"
      },
      "outputs": [],
      "source": [
        "with open('sudokus.csv', 'r') as f:\n",
        "    lines = [l.strip() for l in f.readlines()]"
      ]
    },
    {
      "cell_type": "code",
      "execution_count": null,
      "id": "1fec30ea",
      "metadata": {
        "id": "1fec30ea"
      },
      "outputs": [],
      "source": [
        "len(lines)"
      ]
    },
    {
      "cell_type": "code",
      "execution_count": null,
      "id": "6c5e3efa",
      "metadata": {
        "id": "6c5e3efa"
      },
      "outputs": [],
      "source": [
        "lines[:5]"
      ]
    },
    {
      "cell_type": "markdown",
      "id": "3ee16bba",
      "metadata": {
        "id": "3ee16bba"
      },
      "source": [
        "Each line of the file represents a Sudoku. Let's create a helper function to convert a line from the file into a list of lists, the representation we have been using so far.\n",
        "\n",
        "\n",
        "> **(Optional) QUESTION 12**: Write a function `parse_sudoku` to convert a Sudoku into a list of lists"
      ]
    },
    {
      "cell_type": "code",
      "execution_count": null,
      "id": "6558445c",
      "metadata": {
        "id": "6558445c"
      },
      "outputs": [],
      "source": [
        "def parse_sudoku(sudoku_str):\n",
        "    # write code here\n",
        "    pass"
      ]
    },
    {
      "cell_type": "markdown",
      "id": "cb9545a0",
      "metadata": {
        "id": "cb9545a0"
      },
      "source": [
        "The following cell should output `True` if your implementation is correct."
      ]
    },
    {
      "cell_type": "code",
      "execution_count": null,
      "id": "b79b127c",
      "metadata": {
        "id": "b79b127c"
      },
      "outputs": [],
      "source": [
        "sudoku_str1 = '004300209005009001070060043006002087190007400050083000600000105003508690042910300';\n",
        "\n",
        "sudoku_parsed1 = [[0, 0, 4, 3, 0, 0, 2, 0, 9],\n",
        "                  [0, 0, 5, 0, 0, 9, 0, 0, 1],\n",
        "                  [0, 7, 0, 0, 6, 0, 0, 4, 3],\n",
        "                  [0, 0, 6, 0, 0, 2, 0, 8, 7],\n",
        "                  [1, 9, 0, 0, 0, 7, 4, 0, 0],\n",
        "                  [0, 5, 0, 0, 8, 3, 0, 0, 0],\n",
        "                  [6, 0, 0, 0, 0, 0, 1, 0, 5],\n",
        "                  [0, 0, 3, 5, 0, 8, 6, 9, 0],\n",
        "                  [0, 4, 2, 9, 1, 0, 3, 0, 0]]\n",
        "\n",
        "parse_sudoku(sudoku_str1) == sudoku_parsed1"
      ]
    },
    {
      "cell_type": "markdown",
      "id": "68dcb359",
      "metadata": {
        "id": "68dcb359"
      },
      "source": [
        "\n",
        "We can now use list comprehension to convert into a list of lists.\n"
      ]
    },
    {
      "cell_type": "code",
      "execution_count": null,
      "id": "68b8ff92",
      "metadata": {
        "id": "68b8ff92"
      },
      "outputs": [],
      "source": [
        "sudokus = [parse_sudoku(line) for line in lines]"
      ]
    },
    {
      "cell_type": "code",
      "execution_count": null,
      "id": "4fa31aad",
      "metadata": {
        "id": "4fa31aad"
      },
      "outputs": [],
      "source": [
        "sudokus[:5]"
      ]
    },
    {
      "cell_type": "markdown",
      "id": "2218e35d",
      "metadata": {
        "id": "2218e35d"
      },
      "source": [
        "We can also use list comprehension to solve all the puzzles."
      ]
    },
    {
      "cell_type": "code",
      "execution_count": null,
      "id": "5545c87a",
      "metadata": {
        "id": "5545c87a"
      },
      "outputs": [],
      "source": [
        "solved_sudokus = [solve_sudoku(sudoku) for sudoku in sudokus]"
      ]
    },
    {
      "cell_type": "code",
      "execution_count": null,
      "id": "3be78e27",
      "metadata": {
        "id": "3be78e27"
      },
      "outputs": [],
      "source": [
        "solved_sudokus[:5]"
      ]
    },
    {
      "cell_type": "markdown",
      "id": "d9eae82e",
      "metadata": {
        "id": "d9eae82e"
      },
      "source": [
        "> **(Optional) QUESTION 13**: Write a function `write_results` which writes the solved sudokus to a file."
      ]
    },
    {
      "cell_type": "code",
      "execution_count": null,
      "id": "d1272f43",
      "metadata": {
        "id": "d1272f43"
      },
      "outputs": [],
      "source": [
        "def write_resutls(solved_sudokus, filename):\n",
        "    # write code here\n",
        "    pass"
      ]
    },
    {
      "cell_type": "code",
      "execution_count": null,
      "id": "c4abf9ca",
      "metadata": {
        "id": "c4abf9ca"
      },
      "outputs": [],
      "source": [
        "write_results(solved_sudokus, 'sudokus_solved.csv')"
      ]
    },
    {
      "cell_type": "markdown",
      "id": "1b0f4188",
      "metadata": {
        "id": "1b0f4188"
      },
      "source": [
        "Let's view the file to ensure that it was written properly."
      ]
    },
    {
      "cell_type": "code",
      "execution_count": null,
      "id": "a883dee4",
      "metadata": {
        "id": "a883dee4"
      },
      "outputs": [],
      "source": [
        "with open('sudokus_solved.csv', 'r') as f:\n",
        "    lines2 = [l.strip() for l in f.readlines()]\n",
        "\n",
        "lines2[:5]"
      ]
    },
    {
      "cell_type": "markdown",
      "id": "1f64c8dd",
      "metadata": {
        "id": "1f64c8dd"
      },
      "source": [
        "Finally, let's save our work."
      ]
    },
    {
      "cell_type": "code",
      "execution_count": null,
      "id": "c1f4b9ff",
      "metadata": {
        "id": "c1f4b9ff"
      },
      "outputs": [],
      "source": [
        "jovian.commit()"
      ]
    },
    {
      "cell_type": "code",
      "execution_count": null,
      "id": "9a686162",
      "metadata": {
        "id": "9a686162"
      },
      "outputs": [],
      "source": []
    }
  ],
  "metadata": {
    "kernelspec": {
      "display_name": "Python 3 (ipykernel)",
      "language": "python",
      "name": "python3"
    },
    "language_info": {
      "codemirror_mode": {
        "name": "ipython",
        "version": 3
      },
      "file_extension": ".py",
      "mimetype": "text/x-python",
      "name": "python",
      "nbconvert_exporter": "python",
      "pygments_lexer": "ipython3",
      "version": "3.9.6"
    },
    "colab": {
      "provenance": [],
      "include_colab_link": true
    }
  },
  "nbformat": 4,
  "nbformat_minor": 5
}